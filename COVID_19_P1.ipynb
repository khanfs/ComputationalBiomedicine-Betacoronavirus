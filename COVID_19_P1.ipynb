{
  "nbformat": 4,
  "nbformat_minor": 0,
  "metadata": {
    "colab": {
      "name": "COVID-19-P1.ipynb",
      "provenance": [],
      "authorship_tag": "ABX9TyPM3tZ+mz34rJ0QDwdmZEsW",
      "include_colab_link": true
    },
    "kernelspec": {
      "name": "python3",
      "display_name": "Python 3"
    },
    "language_info": {
      "name": "python"
    }
  },
  "cells": [
    {
      "cell_type": "markdown",
      "metadata": {
        "id": "view-in-github",
        "colab_type": "text"
      },
      "source": [
        "<a href=\"https://colab.research.google.com/github/khanfs/ComputationalBiomedicine-COVID-19/blob/main/COVID_19_P1.ipynb\" target=\"_parent\"><img src=\"https://colab.research.google.com/assets/colab-badge.svg\" alt=\"Open In Colab\"/></a>"
      ]
    },
    {
      "cell_type": "markdown",
      "source": [
        "# **QSAR Modelling of SARS-CoV-2**\n",
        "# Data Pre-Processing\n",
        "---\n",
        "# **ChEMBL Database**\n",
        "\n",
        "The [ChEMBL database](https://www.ebi.ac.uk/chembl/) provides manually extracted and curated Structure Activity Relationship data from the medicinal chemistry literature. The ChEMBL database aids the translation of genomic information into new drugs by bringing together chemical, bioactivity and genomic data. It primarily captures the association between a ligand and a biological target in the form of an experimentally measured activity end-point, e.g. half-maximal inhibitory concentration (IC50).\n"
      ],
      "metadata": {
        "id": "zlyUeX5mvidP"
      }
    },
    {
      "cell_type": "code",
      "execution_count": 1,
      "metadata": {
        "colab": {
          "base_uri": "https://localhost:8080/"
        },
        "id": "QUxQp3s5vPOt",
        "outputId": "67c824e6-5918-4c93-becb-7c25bbcd4375"
      },
      "outputs": [
        {
          "output_type": "stream",
          "name": "stdout",
          "text": [
            "Looking in indexes: https://pypi.org/simple, https://us-python.pkg.dev/colab-wheels/public/simple/\n",
            "Requirement already satisfied: chembl_webresource_client in /usr/local/lib/python3.7/dist-packages (0.10.8)\n",
            "Requirement already satisfied: urllib3 in /usr/local/lib/python3.7/dist-packages (from chembl_webresource_client) (1.24.3)\n",
            "Requirement already satisfied: requests-cache~=0.7.0 in /usr/local/lib/python3.7/dist-packages (from chembl_webresource_client) (0.7.5)\n",
            "Requirement already satisfied: easydict in /usr/local/lib/python3.7/dist-packages (from chembl_webresource_client) (1.9)\n",
            "Requirement already satisfied: requests>=2.18.4 in /usr/local/lib/python3.7/dist-packages (from chembl_webresource_client) (2.23.0)\n",
            "Requirement already satisfied: chardet<4,>=3.0.2 in /usr/local/lib/python3.7/dist-packages (from requests>=2.18.4->chembl_webresource_client) (3.0.4)\n",
            "Requirement already satisfied: idna<3,>=2.5 in /usr/local/lib/python3.7/dist-packages (from requests>=2.18.4->chembl_webresource_client) (2.10)\n",
            "Requirement already satisfied: certifi>=2017.4.17 in /usr/local/lib/python3.7/dist-packages (from requests>=2.18.4->chembl_webresource_client) (2022.5.18.1)\n",
            "Requirement already satisfied: url-normalize<2.0,>=1.4 in /usr/local/lib/python3.7/dist-packages (from requests-cache~=0.7.0->chembl_webresource_client) (1.4.3)\n",
            "Requirement already satisfied: attrs<22.0,>=21.2 in /usr/local/lib/python3.7/dist-packages (from requests-cache~=0.7.0->chembl_webresource_client) (21.4.0)\n",
            "Requirement already satisfied: itsdangerous>=2.0.1 in /usr/local/lib/python3.7/dist-packages (from requests-cache~=0.7.0->chembl_webresource_client) (2.1.2)\n",
            "Requirement already satisfied: pyyaml>=5.4 in /usr/local/lib/python3.7/dist-packages (from requests-cache~=0.7.0->chembl_webresource_client) (6.0)\n",
            "Requirement already satisfied: six in /usr/local/lib/python3.7/dist-packages (from url-normalize<2.0,>=1.4->requests-cache~=0.7.0->chembl_webresource_client) (1.15.0)\n"
          ]
        }
      ],
      "source": [
        "# INSTALLING LIBRARIES\n",
        "# Install ChEMBL API to interface ChEMBL database\n",
        "# ChEMBL web services API live documentation Explorer: https://www.ebi.ac.uk/chembl/api/data/docs\n",
        "# Python client library developed and supported by ChEMBL group: https://github.com/chembl/chembl_webresource_client \n",
        "! pip install chembl_webresource_client"
      ]
    },
    {
      "cell_type": "markdown",
      "source": [
        "# **ChEMBL Database**\n",
        "\n",
        "The [ChEMBL database](https://www.ebi.ac.uk/chembl/) provides manually extracted and curated Structure Activity Relationship data from the medicinal chemistry literature. The ChEMBL database aids the translation of genomic information into new drugs by bringing together chemical, bioactivity and genomic data. It primarily captures the association between a ligand and a biological target in the form of an experimentally measured activity end-point, e.g. half-maximal inhibitory concentration (IC50)."
      ],
      "metadata": {
        "id": "UaJP28yZACcY"
      }
    },
    {
      "cell_type": "code",
      "source": [
        "# In order to use ChEMBL settings you need to import them before using the client\n",
        "from chembl_webresource_client.settings import Settings"
      ],
      "metadata": {
        "id": "GKWGytFk3fJi"
      },
      "execution_count": 2,
      "outputs": []
    },
    {
      "cell_type": "markdown",
      "source": [
        "# **ChEMBL API**\n",
        "\n",
        "ChEMBL is the only official Python client library developed and supported by ChEMBL group. The library helps access ChEMBL data and cheminformatics tools using Python.\n",
        "\n",
        "**REFERENCES**\n",
        "* [ChEMBL web services: streamlining access to drug discovery data and utilities](https://www.ncbi.nlm.nih.gov/pmc/articles/PMC4489243/)\n",
        "* [GitHub Repository](https://github.com/chembl/chembl_webresource_client)\n",
        "\n",
        "* [Live Jupyter notebook with examples](https://hub.gke2.mybinder.org/user/chembl-chembl_webresource_client-57kvj2a2/notebooks/demo_wrc.ipynb)"
      ],
      "metadata": {
        "id": "EqsYL5U26uHC"
      }
    },
    {
      "cell_type": "code",
      "source": [
        "# List all available data entities in the ChEMBL database\n",
        "from chembl_webresource_client.new_client import new_client\n",
        "available_resources = [resource for resource in dir(new_client) if not resource.startswith('_')]\n",
        "print (available_resources)"
      ],
      "metadata": {
        "colab": {
          "base_uri": "https://localhost:8080/"
        },
        "id": "fUZyfa-g6Glv",
        "outputId": "68732f37-487f-439f-caad-d66da33287fd"
      },
      "execution_count": 5,
      "outputs": [
        {
          "output_type": "stream",
          "name": "stdout",
          "text": [
            "['activity', 'activity_supplementary_data_by_activity', 'assay', 'assay_class', 'atc_class', 'binding_site', 'biotherapeutic', 'cell_line', 'chembl_id_lookup', 'compound_record', 'compound_structural_alert', 'description', 'document', 'document_similarity', 'drug', 'drug_indication', 'drug_warning', 'go_slim', 'image', 'mechanism', 'metabolism', 'molecule', 'molecule_form', 'official', 'organism', 'protein_class', 'similarity', 'source', 'substructure', 'target', 'target_component', 'target_relation', 'tissue', 'xref_source']\n"
          ]
        }
      ]
    },
    {
      "cell_type": "code",
      "source": [
        "# Import pandas library \n",
        "import pandas as pd"
      ],
      "metadata": {
        "id": "VlExcbNGyqDN"
      },
      "execution_count": null,
      "outputs": []
    },
    {
      "cell_type": "markdown",
      "source": [
        ""
      ],
      "metadata": {
        "id": "4cB48ZQ2B-zD"
      }
    }
  ]
}